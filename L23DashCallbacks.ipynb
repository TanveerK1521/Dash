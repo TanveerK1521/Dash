{
 "cells": [
  {
   "cell_type": "markdown",
   "id": "fc8efd9f-c308-438d-a767-7d3b2a7d6f5d",
   "metadata": {},
   "source": [
    "This Jupyter notebook will focus on working with Dash Callbacks  \n",
    "We will : EXTRACT THE AVERAGE MONTHLY DELAY TIME AND SEE HOW IT CHANGES OVER THE YEARS FROM 2010 to 2020  \n",
    "Tasks to do will be:  \n",
    "TASK 1:  \n",
    "Import the required libraries and read the dataset  \n",
    "TASK 2:  \n",
    "Create an application layout and add title to dashboard using H1 componenet  \n",
    "TASK 3:  \n",
    "Add input text box using core input and output components  \n",
    "Add the callback decorator and generate the line chart within the callback function"
   ]
  },
  {
   "cell_type": "code",
   "execution_count": 41,
   "id": "0ea674d9-2c90-4273-829d-f58911ec95f3",
   "metadata": {},
   "outputs": [],
   "source": [
    "import pandas as pd\n",
    "import plotly.express as px\n",
    "import dash\n",
    "from dash import dcc\n",
    "from dash import html\n",
    "from dash.dependencies import Input, Output\n",
    "airline_data =  pd.read_csv('https://cf-courses-data.s3.us.cloud-object-storage.appdomain.cloud/IBMDeveloperSkillsNetwork-DV0101EN-SkillsNetwork/Data%20Files/airline_data.csv', \n",
    "                            encoding = \"ISO-8859-1\",\n",
    "                            dtype={'Div1Airport': str, 'Div1TailNum': str, \n",
    "                                   'Div2Airport': str, 'Div2TailNum': str})"
   ]
  },
  {
   "cell_type": "code",
   "execution_count": 42,
   "id": "15262ec0-7012-496a-b3ca-89ebe7280179",
   "metadata": {},
   "outputs": [
    {
     "data": {
      "text/html": [
       "\n",
       "        <iframe\n",
       "            width=\"100%\"\n",
       "            height=\"650\"\n",
       "            src=\"http://127.0.0.1:80/\"\n",
       "            frameborder=\"0\"\n",
       "            allowfullscreen\n",
       "            \n",
       "        ></iframe>\n",
       "        "
      ],
      "text/plain": [
       "<IPython.lib.display.IFrame at 0x1f2d9a6c550>"
      ]
     },
     "metadata": {},
     "output_type": "display_data"
    }
   ],
   "source": [
    "# Creating the dash application layout\n",
    "app = dash.Dash(__name__)\n",
    "\n",
    "app.layout =html.Div(\n",
    "        children=[\n",
    "            html.H1('Airline Performance Dashboard', style={'text-align':'center', 'color': 'pink','font-size':'40'}),\n",
    "            html.Div(['Input Year',dcc.Input(id='input-year', value='2010', \n",
    "                                type='number', style={'height':'50px', 'font-size': 35}),],\n",
    "                    style={'font-size': 40}),\n",
    "                    html.Br(),\n",
    "                    html.Br(),\n",
    "                    html.Div(dcc.Graph(id='line-plot'))\n",
    "            \n",
    "        ]\n",
    "    )\n",
    "\n",
    "#Now add the application callback function \n",
    "# In python @app.callback is a decorator used in Dash Frameworks to specify that a function should be called when an input component changes its value.\n",
    "# The Input and Output functions are used to define the inputs and outputs of a callback function\n",
    "# The core idea of this application is to get year as user input(input) and update the dashboard(output) in real time with the help of a callback function\n",
    "# Steps:\n",
    "# Define the callback decorator\n",
    "# Define the callback function that uses the user input provided to perform computation\n",
    "# Create graph and return it as an output\n",
    "\n",
    "\n",
    "\n",
    "# add callback decorator\n",
    "@app.callback( Output(component_id='line-plot', component_property='figure'),\n",
    "               Input(component_id='input-year', component_property='value'))\n",
    "# Add computation to callback function and return graph\n",
    "def get_graph(entered_year):\n",
    "    # Select 2019 data\n",
    "    df =  airline_data[airline_data['Year']==int(entered_year)]\n",
    "    \n",
    "    # Group the data by Month and compute average over arrival delay time.\n",
    "    line_data = df.groupby('Month')['ArrDelay'].mean().reset_index()\n",
    "    fig = go.Figure(data=go.Scatter(x=line_data['Month'], y=line_data['ArrDelay'], mode='lines', marker=dict(color='green')))\n",
    "    fig.update_layout(title='Month vs Average Flight Delay Time', xaxis_title='Month', yaxis_title='ArrDelay')\n",
    "    return fig\n",
    "\n",
    "\n",
    "\n",
    "\n",
    "# Run the app\n",
    "if __name__ == '__main__':\n",
    "    app.run_server(port=80)"
   ]
  },
  {
   "cell_type": "markdown",
   "id": "06ddd8e6-f048-474d-bb7c-8a581ca19e81",
   "metadata": {},
   "source": [
    "##### PRACTICE QUESTION   \n",
    "Lets use bar chart to extract the number of flights from a specific airline which goes to a destination"
   ]
  },
  {
   "cell_type": "code",
   "execution_count": 43,
   "id": "93ab2154-3d31-4b48-8150-894226bb0646",
   "metadata": {},
   "outputs": [
    {
     "data": {
      "text/html": [
       "\n",
       "        <iframe\n",
       "            width=\"100%\"\n",
       "            height=\"650\"\n",
       "            src=\"http://127.0.0.1:80/\"\n",
       "            frameborder=\"0\"\n",
       "            allowfullscreen\n",
       "            \n",
       "        ></iframe>\n",
       "        "
      ],
      "text/plain": [
       "<IPython.lib.display.IFrame at 0x1f2d8dbd9d0>"
      ]
     },
     "metadata": {},
     "output_type": "display_data"
    }
   ],
   "source": [
    "app = dash.Dash(__name__)\n",
    "app.layout = html.Div( children=[\n",
    "    html.H1('Total number of flights to the destination state split by reporting air',style={'text-align':'center', 'color':'pink', 'font-size':50}),\n",
    "    html.Div(['Input Year', dcc.Input(id='input-year',value='2010',type='number', style={'height':'50px', 'font-size': 35}),],\n",
    "             style={'font-size': 40}),\n",
    "    html.Br(),\n",
    "    html.Br(),\n",
    "    html.Div(dcc.Graph(id='bar-plot'))\n",
    "]           \n",
    ")\n",
    "\n",
    "# now defining callback graph function\n",
    "# add callback decorator\n",
    "@app.callback( Output(component_id='bar-plot', component_property='figure'),\n",
    "               Input(component_id='input-year', component_property='value'))\n",
    "# Add computation to callback function and return graph\n",
    "def get_graph(entered_year):\n",
    "    df =  airline_data[airline_data['Year']==int(entered_year)]\n",
    "    bar_data = df.groupby('DestState')['Flights'].sum().reset_index()\n",
    "    fig = px.bar(bar_data, x= \"DestState\", y= \"Flights\", title='Total number of flights to the destination state split by reporting airline') \n",
    "    fig.update_layout(title='Flights to Destination State', xaxis_title='DestState', yaxis_title='Flights')\n",
    "    return fig     \n",
    "# Run the app\n",
    "if __name__ == '__main__':\n",
    "    app.run_server(port=80)"
   ]
  },
  {
   "cell_type": "code",
   "execution_count": null,
   "id": "06f57b65-9c04-4468-b6d9-d642b73bd030",
   "metadata": {},
   "outputs": [],
   "source": []
  },
  {
   "cell_type": "code",
   "execution_count": null,
   "id": "150cdb4b-01f5-4e5c-b26d-843529e2d68a",
   "metadata": {},
   "outputs": [],
   "source": []
  },
  {
   "cell_type": "code",
   "execution_count": null,
   "id": "d092c5cb-3619-4653-b33b-1e48eb5bcb34",
   "metadata": {},
   "outputs": [],
   "source": []
  },
  {
   "cell_type": "code",
   "execution_count": null,
   "id": "67f71583-eebe-4698-b90a-add494da5821",
   "metadata": {},
   "outputs": [],
   "source": []
  },
  {
   "cell_type": "code",
   "execution_count": null,
   "id": "f7269841-7d04-47e9-b4e9-503f90ef9605",
   "metadata": {},
   "outputs": [],
   "source": []
  },
  {
   "cell_type": "code",
   "execution_count": null,
   "id": "8ccc5d2e-830c-4fb8-9087-62d478819cbd",
   "metadata": {},
   "outputs": [],
   "source": []
  },
  {
   "cell_type": "code",
   "execution_count": null,
   "id": "faf7ba29-a2c2-4650-aa6e-3657886b0eb3",
   "metadata": {},
   "outputs": [],
   "source": []
  },
  {
   "cell_type": "code",
   "execution_count": null,
   "id": "db5b0156-ea5a-4a42-9e5c-facff987c60a",
   "metadata": {},
   "outputs": [],
   "source": []
  },
  {
   "cell_type": "code",
   "execution_count": null,
   "id": "2e063bc8-a67b-40ee-a1a9-f67b73dd1f69",
   "metadata": {},
   "outputs": [],
   "source": []
  },
  {
   "cell_type": "code",
   "execution_count": null,
   "id": "652594b3-08e5-4dd7-8e46-2e3399ab5024",
   "metadata": {},
   "outputs": [],
   "source": []
  },
  {
   "cell_type": "code",
   "execution_count": null,
   "id": "f6649cd8-cad9-44ee-9d9f-6b310a0455fe",
   "metadata": {},
   "outputs": [],
   "source": []
  },
  {
   "cell_type": "code",
   "execution_count": null,
   "id": "8aa41980-a33d-47da-864a-80d4f7c12c95",
   "metadata": {},
   "outputs": [],
   "source": []
  },
  {
   "cell_type": "code",
   "execution_count": null,
   "id": "776fccc0-7fda-4fbb-a66d-3a5837f32836",
   "metadata": {},
   "outputs": [],
   "source": []
  },
  {
   "cell_type": "code",
   "execution_count": null,
   "id": "7c847c49-c241-4ca9-bdbd-df007cf123ba",
   "metadata": {},
   "outputs": [],
   "source": []
  },
  {
   "cell_type": "code",
   "execution_count": null,
   "id": "d44a4fb1-ff00-4b90-b37f-8e18bf4d834f",
   "metadata": {},
   "outputs": [],
   "source": []
  },
  {
   "cell_type": "code",
   "execution_count": null,
   "id": "bd2841eb-923d-4a50-84c6-86e76329c0df",
   "metadata": {},
   "outputs": [],
   "source": []
  },
  {
   "cell_type": "code",
   "execution_count": null,
   "id": "c3f92312-fd14-446b-a8e5-2d52ad2ab1ab",
   "metadata": {},
   "outputs": [],
   "source": []
  }
 ],
 "metadata": {
  "kernelspec": {
   "display_name": "Python 3 (ipykernel)",
   "language": "python",
   "name": "python3"
  },
  "language_info": {
   "codemirror_mode": {
    "name": "ipython",
    "version": 3
   },
   "file_extension": ".py",
   "mimetype": "text/x-python",
   "name": "python",
   "nbconvert_exporter": "python",
   "pygments_lexer": "ipython3",
   "version": "3.11.5"
  }
 },
 "nbformat": 4,
 "nbformat_minor": 5
}
