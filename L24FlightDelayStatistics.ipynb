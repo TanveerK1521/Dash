{
 "cells": [
  {
   "cell_type": "markdown",
   "id": "626d7ba3-0fa9-4203-a903-14208d09d7c3",
   "metadata": {},
   "source": [
    "This Jupyter notebook will focus on analyzing flight delays through a dashboard  \n",
    "Dashboard components:  \n",
    "Monthly average carrier delay by reporting airline for the given year.  \n",
    "Monthly average weather delay by reporting airline for the given year.   \n",
    "Monthly average national air system delay by reporting airline for the given year.  \n",
    "Monthly average security delay by reporting airline for the given year.  \n",
    "Monthly average late aircraft delay by reporting airline for the given yearar.\n"
   ]
  },
  {
   "cell_type": "code",
   "execution_count": null,
   "id": "ac99e514-9df8-4d60-895d-e1498ab810e1",
   "metadata": {},
   "outputs": [],
   "source": [
    "import pandas as pd\n",
    "import numpy as np\n",
    "import plotly.express as px\n",
    "import plotly.graph_objects as go\n",
    "import dash\n",
    "from dash import dcc\n",
    "from dash import html\n",
    "from dash.dependencies import Input, Output\n",
    "airline_data =  pd.read_csv('https://cf-courses-data.s3.us.cloud-object-storage.appdomain.cloud/IBMDeveloperSkillsNetwork-DV0101EN-SkillsNetwork/Data%20Files/airline_data.csv', \n",
    "                            encoding = \"ISO-8859-1\",\n",
    "                            dtype={'Div1Airport': str, 'Div1TailNum': str, \n",
    "                                   'Div2Airport': str, 'Div2TailNum': str})\n"
   ]
  },
  {
   "cell_type": "code",
   "execution_count": 28,
   "id": "c67515dc-6f68-49a4-b018-5411ccbf5261",
   "metadata": {},
   "outputs": [
    {
     "data": {
      "text/html": [
       "\n",
       "        <iframe\n",
       "            width=\"100%\"\n",
       "            height=\"650\"\n",
       "            src=\"http://127.0.0.1:89/\"\n",
       "            frameborder=\"0\"\n",
       "            allowfullscreen\n",
       "            \n",
       "        ></iframe>\n",
       "        "
      ],
      "text/plain": [
       "<IPython.lib.display.IFrame at 0x27d6c75ebd0>"
      ]
     },
     "metadata": {},
     "output_type": "display_data"
    }
   ],
   "source": [
    "# Designing layout for application\n",
    "app = dash.Dash(__name__)\n",
    "\n",
    "app.layout =  html.Div(\n",
    "        children = [\n",
    "        html.H1('Flight Delay Time Statitics', style={'text-align':'center', 'font-size': 40, 'color':'pink'}),\n",
    "        html.Div(['Input Year', dcc.Input(id = 'input-year', value = '2010', type='number', style={'height':'50px','font-size': 35}),],\n",
    "        \n",
    "        style={'font-size': 40}),\n",
    "         html.Br(),\n",
    "         html.Br(),\n",
    "         html.Div(dcc.Graph(id='carrier-delay')),\n",
    "         html.Div(dcc.Graph(id='weather-delay')),\n",
    "         html.Div(dcc.Graph(id='national-air-system-delay')),\n",
    "         html.Div(dcc.Graph(id='security-delay')),\n",
    "         html.Div(dcc.Graph(id='aircraft-delay')),\n",
    "]\n",
    "    )\n",
    "#computing the required dataframes\n",
    "# This function will take airline data and input year as input and will perform computation for creating charts and plots\n",
    "# This function returns the computed average dataframes for 5 charts we need to make\n",
    "def compute_info(airline_data,entered_year):\n",
    "    #select data\n",
    "    df = airline_data[airline_data['Year']==int(entered_year)]\n",
    "    #compute delay averages\n",
    "    avg_car = df.groupby(['Month','Reporting_Airline'])['CarrierDelay'].mean().reset_index()\n",
    "    avg_weather = df.groupby(['Month','Reporting_Airline'])['WeatherDelay'].mean().reset_index()\n",
    "    avg_NAS = df.groupby(['Month','Reporting_Airline'])['NASDelay'].mean().reset_index()\n",
    "    avg_sec = df.groupby(['Month','Reporting_Airline'])['SecurityDelay'].mean().reset_index()\n",
    "    avg_late = df.groupby(['Month','Reporting_Airline'])['LateAircraftDelay'].mean().reset_index()\n",
    "    return avg_car, avg_weather, avg_NAS, avg_sec, avg_late\n",
    "\n",
    "\n",
    "# setting up callback decorator\n",
    "@app.callback([\n",
    "              Output(component_id='carrier-delay', component_property='figure'),\n",
    "              Output(component_id='weather-delay', component_property='figure'),\n",
    "              Output(component_id='national-air-system-delay', component_property='figure'),\n",
    "              Output(component_id='security-delay', component_property='figure'),\n",
    "              Output(component_id='aircraft-delay', component_property='figure')],\n",
    "              Input(component_id='input-year', component_property='value')\n",
    "             )\n",
    "\n",
    "# now defining callback function\n",
    "def get_graph(entered_year):\n",
    "    \n",
    "    # Compute required information for creating graph from the data\n",
    "    avg_car, avg_weather, avg_NAS, avg_sec, avg_late = compute_info(airline_data, entered_year)\n",
    "            \n",
    "    # Line plot for carrier delay\n",
    "    carrier_fig = px.line(avg_car, x='Month', y='CarrierDelay', color='Reporting_Airline', title='Average carrrier delay time (minutes) by airline')\n",
    "    # Line plot for weather delay\n",
    "    weather_fig = px.line(avg_weather, x='Month', y='WeatherDelay', color='Reporting_Airline', title='Average weather delay time (minutes) by airline')\n",
    "    # Line plot for nas delay\n",
    "    nas_fig = px.line(avg_NAS, x='Month', y='NASDelay', color='Reporting_Airline', title='Average NAS delay time (minutes) by airline')\n",
    "    # Line plot for security delay\n",
    "    sec_fig = px.line(avg_sec, x='Month', y='SecurityDelay', color='Reporting_Airline', title='Average security delay time (minutes) by airline')\n",
    "    # Line plot for late aircraft delay\n",
    "    late_fig = px.line(avg_late, x='Month', y='LateAircraftDelay', color='Reporting_Airline', title='Average late aircraft delay time (minutes) by airline')\n",
    "            \n",
    "    return[carrier_fig, weather_fig, nas_fig, sec_fig, late_fig]\n",
    "# Run the app\n",
    "if __name__ == '__main__':\n",
    "    app.run_server(port=89)\n"
   ]
  },
  {
   "cell_type": "code",
   "execution_count": null,
   "id": "8d1a87df-f91e-46ff-8e11-eb98f3f2e261",
   "metadata": {},
   "outputs": [],
   "source": []
  },
  {
   "cell_type": "code",
   "execution_count": null,
   "id": "3638f1c7-51de-4a57-8ca3-56bb8f04627f",
   "metadata": {},
   "outputs": [],
   "source": []
  },
  {
   "cell_type": "code",
   "execution_count": null,
   "id": "1ce2436a-30ac-4d91-ae72-e4ad343783ee",
   "metadata": {},
   "outputs": [],
   "source": []
  },
  {
   "cell_type": "code",
   "execution_count": null,
   "id": "66a8ab63-991a-43f2-b954-b87dc5e50a7f",
   "metadata": {},
   "outputs": [],
   "source": []
  },
  {
   "cell_type": "code",
   "execution_count": null,
   "id": "5402dd6d-c22f-4e1b-af1c-ec3349c21cb9",
   "metadata": {},
   "outputs": [],
   "source": []
  },
  {
   "cell_type": "code",
   "execution_count": null,
   "id": "57ab6508-b77d-429b-b24f-4a7cb71b8006",
   "metadata": {},
   "outputs": [],
   "source": []
  },
  {
   "cell_type": "code",
   "execution_count": null,
   "id": "7ae01cdb-1f85-40be-a2cc-9ba0283e24cc",
   "metadata": {},
   "outputs": [],
   "source": []
  },
  {
   "cell_type": "code",
   "execution_count": null,
   "id": "74d00b67-8be1-415c-8434-70cabdb94984",
   "metadata": {},
   "outputs": [],
   "source": []
  },
  {
   "cell_type": "code",
   "execution_count": null,
   "id": "a13d76fe-c3a4-407d-a8fa-1848d0dc1961",
   "metadata": {},
   "outputs": [],
   "source": []
  },
  {
   "cell_type": "code",
   "execution_count": null,
   "id": "19bc47bc-2345-4b44-bc50-fb47f07814d4",
   "metadata": {},
   "outputs": [],
   "source": []
  },
  {
   "cell_type": "code",
   "execution_count": null,
   "id": "3857066c-152e-448e-b720-479667308380",
   "metadata": {},
   "outputs": [],
   "source": []
  },
  {
   "cell_type": "code",
   "execution_count": null,
   "id": "eea520fb-9b1b-47ae-b9cd-cad53c8672f6",
   "metadata": {},
   "outputs": [],
   "source": []
  },
  {
   "cell_type": "code",
   "execution_count": null,
   "id": "71b65b50-c3f3-4e9c-9944-a715ba167604",
   "metadata": {},
   "outputs": [],
   "source": []
  },
  {
   "cell_type": "code",
   "execution_count": null,
   "id": "41065b5f-e1db-40a3-b08d-6b00fc524d75",
   "metadata": {},
   "outputs": [],
   "source": []
  },
  {
   "cell_type": "code",
   "execution_count": null,
   "id": "e82d6ff4-77a2-437a-a379-63c16ae3e8cb",
   "metadata": {},
   "outputs": [],
   "source": []
  },
  {
   "cell_type": "code",
   "execution_count": null,
   "id": "48e4272a-c1c0-4b11-af31-90817230b508",
   "metadata": {},
   "outputs": [],
   "source": []
  },
  {
   "cell_type": "code",
   "execution_count": null,
   "id": "61f65460-f8a7-4f0c-9d8d-e34d560606e0",
   "metadata": {},
   "outputs": [],
   "source": []
  },
  {
   "cell_type": "code",
   "execution_count": null,
   "id": "6e314f9f-26bd-4579-9f57-f0e71de28f91",
   "metadata": {},
   "outputs": [],
   "source": []
  },
  {
   "cell_type": "code",
   "execution_count": null,
   "id": "7a11e8a1-3eab-40ed-9c2c-6f89aa152de7",
   "metadata": {},
   "outputs": [],
   "source": []
  },
  {
   "cell_type": "code",
   "execution_count": null,
   "id": "2094fc40-915e-40df-badd-f40d69e24273",
   "metadata": {},
   "outputs": [],
   "source": []
  },
  {
   "cell_type": "code",
   "execution_count": null,
   "id": "6c1fb9da-27c1-4129-a10c-8cfb6b33bb77",
   "metadata": {},
   "outputs": [],
   "source": []
  },
  {
   "cell_type": "code",
   "execution_count": null,
   "id": "6676193f-6c90-4c92-9aee-24b4a8c24ae2",
   "metadata": {},
   "outputs": [],
   "source": []
  },
  {
   "cell_type": "code",
   "execution_count": null,
   "id": "bb7700a5-2bd9-4867-9843-a509fde34672",
   "metadata": {},
   "outputs": [],
   "source": []
  },
  {
   "cell_type": "code",
   "execution_count": null,
   "id": "1ca409be-86de-4cef-b97c-314318c3a4f8",
   "metadata": {},
   "outputs": [],
   "source": []
  },
  {
   "cell_type": "code",
   "execution_count": null,
   "id": "902eeeec-923d-4c17-9df5-ac48536c8e2b",
   "metadata": {},
   "outputs": [],
   "source": []
  },
  {
   "cell_type": "code",
   "execution_count": null,
   "id": "97c631ee-07cf-48e0-8a47-20f47c7678d6",
   "metadata": {},
   "outputs": [],
   "source": []
  },
  {
   "cell_type": "code",
   "execution_count": null,
   "id": "516c3d30-d920-4711-ae80-cd40647ef4ab",
   "metadata": {},
   "outputs": [],
   "source": []
  },
  {
   "cell_type": "code",
   "execution_count": null,
   "id": "2f4ebfe5-c807-4f75-a7f1-faabf6b60173",
   "metadata": {},
   "outputs": [],
   "source": []
  }
 ],
 "metadata": {
  "kernelspec": {
   "display_name": "Python 3 (ipykernel)",
   "language": "python",
   "name": "python3"
  },
  "language_info": {
   "codemirror_mode": {
    "name": "ipython",
    "version": 3
   },
   "file_extension": ".py",
   "mimetype": "text/x-python",
   "name": "python",
   "nbconvert_exporter": "python",
   "pygments_lexer": "ipython3",
   "version": "3.11.5"
  }
 },
 "nbformat": 4,
 "nbformat_minor": 5
}
