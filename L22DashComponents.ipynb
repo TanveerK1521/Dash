{
 "cells": [
  {
   "cell_type": "markdown",
   "id": "09891109-dd41-481d-ad2f-746174018300",
   "metadata": {},
   "source": [
    "This Jupyter notebook will focus on creating a dash application layout.  \n",
    "Adding HTML H1,P,and Div components  \n",
    "Add core graph components  \n",
    "Add multiple charts  "
   ]
  },
  {
   "cell_type": "markdown",
   "id": "3903b25d-f202-4162-9880-80fa4bbef5f0",
   "metadata": {},
   "source": [
    "Lets start creating dash application:  \n",
    "Our goal is to display the percentage of flights running under specific distance group. Distance group is the distance intervals, every 250 miles, for flight segment.  \n",
    "If the flight covers to 500 miles, it will be under distance group 2(250+250 miles)  \n",
    "Our Dashboard application will consist of three components:  \n",
    "Title of application  \n",
    "Description of application  \n",
    "Chart conveying the proportion of distance group by month"
   ]
  },
  {
   "cell_type": "markdown",
   "id": "8872e98b-33bb-4bc3-96e1-bae2c3334596",
   "metadata": {},
   "source": [
    "TO DO LIST:  \n",
    "Import required libraries and read dataset  \n",
    "Create an application layout  \n",
    "Add titile to Dashboard using H1 component  \n",
    "Add paragraph about the chart using HTML P component  \n",
    "Add pie chart using core graph componenet  \n",
    "Run the app\n"
   ]
  },
  {
   "cell_type": "code",
   "execution_count": 4,
   "id": "64b196bc-cf51-455e-84b3-c543f6402768",
   "metadata": {},
   "outputs": [],
   "source": [
    "import pandas as pd\n",
    "import numpy as np\n",
    "import plotly.express as px \n",
    "import dash\n",
    "from dash import dcc \n",
    "from dash import html"
   ]
  },
  {
   "cell_type": "code",
   "execution_count": 5,
   "id": "9e7f620c-23e4-4c46-8628-dcca5ff70b19",
   "metadata": {},
   "outputs": [],
   "source": [
    "airline_data =  pd.read_csv('https://cf-courses-data.s3.us.cloud-object-storage.appdomain.cloud/IBMDeveloperSkillsNetwork-DV0101EN-SkillsNetwork/Data%20Files/airline_data.csv', \n",
    "                            encoding = \"ISO-8859-1\",\n",
    "                            dtype={'Div1Airport': str, 'Div1TailNum': str, \n",
    "                                   'Div2Airport': str, 'Div2TailNum': str})\n",
    "# Randomly sample 500 data points. Setting the random state to be 42 so that we get same result.\n",
    "data = airline_data.sample(n=500, random_state=42)\n",
    "# Pie Chart Creation\n",
    "fig = px.pie(data, values='Flights', names='DistanceGroup', title='Distance group proportion by flights')\n",
    "\n"
   ]
  },
  {
   "cell_type": "code",
   "execution_count": 20,
   "id": "7bcee555-68e7-4557-b635-4b3deef98527",
   "metadata": {},
   "outputs": [
    {
     "data": {
      "text/html": [
       "\n",
       "        <iframe\n",
       "            width=\"100%\"\n",
       "            height=\"650\"\n",
       "            src=\"http://127.0.0.1:8050/\"\n",
       "            frameborder=\"0\"\n",
       "            allowfullscreen\n",
       "            \n",
       "        ></iframe>\n",
       "        "
      ],
      "text/plain": [
       "<IPython.lib.display.IFrame at 0x13de195fe50>"
      ]
     },
     "metadata": {},
     "output_type": "display_data"
    }
   ],
   "source": [
    "# Next we create a skeleton for our dash application\n",
    "# adding Title using html.H1 tag\n",
    "# adding description using html.P1 tag\n",
    "# adding chart using dcc.Graph() tag\n",
    "\n",
    "#create a dash application \n",
    "app = dash.Dash(__name__)\n",
    "\n",
    "# create the layout of the application and adjust it\n",
    "# Then create an outer division using html.Div and add title to dashboard using html.H1 component\n",
    "# Add description about the graph using HTML P (paragraph) component\n",
    "# Finally, add graph component.\n",
    "\n",
    "app.layout = html.Div(children=[\n",
    "    html.H1('Airline Dashboard', style={'text-align':'center','color':'#503D36','font-size':'40'}),\n",
    "    html.P('Proportion of distance group (250 mile distance interval group) by flights', style={'textAlign':'center', 'color': '#F57241'}),\n",
    "    dcc.Graph(figure=fig)\n",
    "]\n",
    ")\n",
    "\n",
    "# run the application\n",
    "if __name__ == '__main__':\n",
    "    app.run_server()\n"
   ]
  },
  {
   "cell_type": "code",
   "execution_count": null,
   "id": "bcfa8f41-d75d-479c-9d27-8602dc5e4563",
   "metadata": {},
   "outputs": [],
   "source": []
  },
  {
   "cell_type": "code",
   "execution_count": null,
   "id": "e38bd818-eb40-4cc6-9e53-cc7822d7fe55",
   "metadata": {},
   "outputs": [],
   "source": []
  },
  {
   "cell_type": "code",
   "execution_count": null,
   "id": "7c5f3dc4-64a6-4da4-ab8e-27b0f9764cfc",
   "metadata": {},
   "outputs": [],
   "source": []
  },
  {
   "cell_type": "code",
   "execution_count": null,
   "id": "9670634e-0908-4d5a-9fd3-9945a4c1ae56",
   "metadata": {},
   "outputs": [],
   "source": []
  },
  {
   "cell_type": "code",
   "execution_count": null,
   "id": "43e2d1d8-8950-47bf-b030-e4bb90cfec16",
   "metadata": {},
   "outputs": [],
   "source": []
  },
  {
   "cell_type": "code",
   "execution_count": null,
   "id": "06556853-ef97-4a16-9f8c-03e68dee8ef1",
   "metadata": {},
   "outputs": [],
   "source": []
  },
  {
   "cell_type": "code",
   "execution_count": null,
   "id": "99c75a5f-6f1c-429b-9b38-451f1f3928f5",
   "metadata": {},
   "outputs": [],
   "source": []
  },
  {
   "cell_type": "code",
   "execution_count": null,
   "id": "755ccaa8-9f50-494e-be57-0b398861b25c",
   "metadata": {},
   "outputs": [],
   "source": []
  },
  {
   "cell_type": "code",
   "execution_count": null,
   "id": "9c22d464-800e-4689-b825-ec1b4571570b",
   "metadata": {},
   "outputs": [],
   "source": []
  },
  {
   "cell_type": "code",
   "execution_count": null,
   "id": "2f770581-ea02-4b42-b458-cb273c58b6b9",
   "metadata": {},
   "outputs": [],
   "source": []
  },
  {
   "cell_type": "code",
   "execution_count": null,
   "id": "348d8cec-2de6-4bb9-b85b-ceba56321d2c",
   "metadata": {},
   "outputs": [],
   "source": []
  },
  {
   "cell_type": "code",
   "execution_count": null,
   "id": "70453796-0301-47a2-baf9-70a5c5a6fdc9",
   "metadata": {},
   "outputs": [],
   "source": []
  },
  {
   "cell_type": "code",
   "execution_count": null,
   "id": "7e4aeeb9-d1e1-4be1-874c-4717d0b5458d",
   "metadata": {},
   "outputs": [],
   "source": []
  },
  {
   "cell_type": "code",
   "execution_count": null,
   "id": "5a7bcdc6-66dd-470e-a119-b67926662410",
   "metadata": {},
   "outputs": [],
   "source": []
  },
  {
   "cell_type": "code",
   "execution_count": null,
   "id": "d1a52341-485a-422c-bf2c-ac14a76e51f6",
   "metadata": {},
   "outputs": [],
   "source": []
  },
  {
   "cell_type": "code",
   "execution_count": null,
   "id": "02d50aca-3bd5-4757-98a7-bf9063ffd6d8",
   "metadata": {},
   "outputs": [],
   "source": []
  },
  {
   "cell_type": "code",
   "execution_count": null,
   "id": "96f0a4ac-082b-41cd-b55a-876bf549e7c8",
   "metadata": {},
   "outputs": [],
   "source": []
  },
  {
   "cell_type": "code",
   "execution_count": null,
   "id": "c1108363-efb6-4c87-a1b3-4be71dd4e60b",
   "metadata": {},
   "outputs": [],
   "source": []
  },
  {
   "cell_type": "code",
   "execution_count": null,
   "id": "e30c21f7-3bb0-417d-a793-ad367b2a95d6",
   "metadata": {},
   "outputs": [],
   "source": []
  },
  {
   "cell_type": "code",
   "execution_count": null,
   "id": "ee464120-5d27-475b-b50c-c9c6295de4d8",
   "metadata": {},
   "outputs": [],
   "source": []
  },
  {
   "cell_type": "code",
   "execution_count": null,
   "id": "55aba8e9-e256-4c5a-b8ca-30cae20ac870",
   "metadata": {},
   "outputs": [],
   "source": []
  },
  {
   "cell_type": "code",
   "execution_count": null,
   "id": "3092ba9b-059f-4afb-9eb1-a62c01fc4874",
   "metadata": {},
   "outputs": [],
   "source": []
  },
  {
   "cell_type": "code",
   "execution_count": null,
   "id": "5c3fe898-ddbc-4b35-8e6d-ad779049b5c3",
   "metadata": {},
   "outputs": [],
   "source": []
  },
  {
   "cell_type": "code",
   "execution_count": null,
   "id": "65017770-e6e0-4941-b389-6f4d922e6904",
   "metadata": {},
   "outputs": [],
   "source": []
  },
  {
   "cell_type": "code",
   "execution_count": null,
   "id": "f72229ca-40a5-41a2-8d2a-6624b19d208f",
   "metadata": {},
   "outputs": [],
   "source": []
  },
  {
   "cell_type": "code",
   "execution_count": null,
   "id": "139f95cf-280a-4999-ae2b-f62ba6d732e8",
   "metadata": {},
   "outputs": [],
   "source": []
  },
  {
   "cell_type": "code",
   "execution_count": null,
   "id": "30de1b17-549c-4fe6-bf1f-76090f3936c8",
   "metadata": {},
   "outputs": [],
   "source": []
  },
  {
   "cell_type": "code",
   "execution_count": null,
   "id": "73f05157-e94a-4023-b293-a90e66c3b3ca",
   "metadata": {},
   "outputs": [],
   "source": []
  },
  {
   "cell_type": "code",
   "execution_count": null,
   "id": "7f4aab32-a317-45e8-896c-a0b5e1c8be63",
   "metadata": {},
   "outputs": [],
   "source": []
  },
  {
   "cell_type": "code",
   "execution_count": null,
   "id": "b982e01a-879f-46a8-90dc-8dc6817a1c53",
   "metadata": {},
   "outputs": [],
   "source": []
  },
  {
   "cell_type": "code",
   "execution_count": null,
   "id": "7dfe51cb-8b69-41fc-bd41-d33950eeb866",
   "metadata": {},
   "outputs": [],
   "source": []
  },
  {
   "cell_type": "code",
   "execution_count": null,
   "id": "9d878a79-91d4-405d-a598-4201fae70852",
   "metadata": {},
   "outputs": [],
   "source": []
  },
  {
   "cell_type": "code",
   "execution_count": null,
   "id": "34e5c09e-7a6f-4f9c-8a5f-90d683a0d20d",
   "metadata": {},
   "outputs": [],
   "source": []
  },
  {
   "cell_type": "code",
   "execution_count": null,
   "id": "0171da6a-2a9f-438c-9aaf-2581682fe11e",
   "metadata": {},
   "outputs": [],
   "source": []
  },
  {
   "cell_type": "code",
   "execution_count": null,
   "id": "b9efeab5-de52-4a6e-9d23-19bdbd1751d0",
   "metadata": {},
   "outputs": [],
   "source": []
  },
  {
   "cell_type": "code",
   "execution_count": null,
   "id": "e049bf9e-bad7-4a4b-be3b-28033226a26b",
   "metadata": {},
   "outputs": [],
   "source": []
  },
  {
   "cell_type": "code",
   "execution_count": null,
   "id": "03f19ffd-45f5-4e3c-935c-fe223907192f",
   "metadata": {},
   "outputs": [],
   "source": []
  },
  {
   "cell_type": "code",
   "execution_count": null,
   "id": "c2070cb9-38d1-4698-ab0a-3cd5e1a70ab4",
   "metadata": {},
   "outputs": [],
   "source": []
  },
  {
   "cell_type": "code",
   "execution_count": null,
   "id": "0ca3d30e-3343-4a91-b862-f4a16aaa7217",
   "metadata": {},
   "outputs": [],
   "source": []
  },
  {
   "cell_type": "code",
   "execution_count": null,
   "id": "f7f4a1e9-591a-422b-8c77-2af6a2d21390",
   "metadata": {},
   "outputs": [],
   "source": []
  },
  {
   "cell_type": "code",
   "execution_count": null,
   "id": "82483a1f-da34-4c57-8442-025d5d09f674",
   "metadata": {},
   "outputs": [],
   "source": []
  },
  {
   "cell_type": "code",
   "execution_count": null,
   "id": "31b06aca-7d7d-4467-9894-86a8883e4c1e",
   "metadata": {},
   "outputs": [],
   "source": []
  },
  {
   "cell_type": "code",
   "execution_count": null,
   "id": "0d9fb70b-5fed-49e5-8eac-b02a2961d5b6",
   "metadata": {},
   "outputs": [],
   "source": []
  },
  {
   "cell_type": "code",
   "execution_count": null,
   "id": "0bb365bf-7c61-4ed1-9192-2d1ceab46c89",
   "metadata": {},
   "outputs": [],
   "source": []
  },
  {
   "cell_type": "code",
   "execution_count": null,
   "id": "fd47901b-b245-4d89-8bb1-279c4229ea47",
   "metadata": {},
   "outputs": [],
   "source": []
  },
  {
   "cell_type": "code",
   "execution_count": null,
   "id": "d56358a5-58b8-42ea-be63-7366636e40ec",
   "metadata": {},
   "outputs": [],
   "source": []
  },
  {
   "cell_type": "code",
   "execution_count": null,
   "id": "7bfe3cc8-156e-47f6-8345-2bda9d1e54e1",
   "metadata": {},
   "outputs": [],
   "source": []
  },
  {
   "cell_type": "code",
   "execution_count": null,
   "id": "31060450-cbef-4867-9c74-10ca5a01b702",
   "metadata": {},
   "outputs": [],
   "source": []
  },
  {
   "cell_type": "code",
   "execution_count": null,
   "id": "a5c55c80-94f7-48c1-91d5-fd1c4ca0ab87",
   "metadata": {},
   "outputs": [],
   "source": []
  },
  {
   "cell_type": "code",
   "execution_count": null,
   "id": "6b4fb25c-2c15-4764-8dd8-04b5082844d9",
   "metadata": {},
   "outputs": [],
   "source": []
  },
  {
   "cell_type": "code",
   "execution_count": null,
   "id": "58b408a1-e126-424f-8800-f373253f3119",
   "metadata": {},
   "outputs": [],
   "source": []
  },
  {
   "cell_type": "code",
   "execution_count": null,
   "id": "fb425026-79b8-4d22-bf0a-b0dab8e3b2a4",
   "metadata": {},
   "outputs": [],
   "source": []
  },
  {
   "cell_type": "code",
   "execution_count": null,
   "id": "e39c218a-4f17-43e1-b11d-e8f465559393",
   "metadata": {},
   "outputs": [],
   "source": []
  },
  {
   "cell_type": "code",
   "execution_count": null,
   "id": "593f118c-af5e-4855-8c1b-ec3cee2a18b0",
   "metadata": {},
   "outputs": [],
   "source": []
  },
  {
   "cell_type": "code",
   "execution_count": null,
   "id": "9319248a-09db-4fd3-a634-32963077d1ca",
   "metadata": {},
   "outputs": [],
   "source": []
  },
  {
   "cell_type": "code",
   "execution_count": null,
   "id": "ec2e1bfb-7d86-4aed-9bd5-49a663bec475",
   "metadata": {},
   "outputs": [],
   "source": []
  },
  {
   "cell_type": "code",
   "execution_count": null,
   "id": "84d9830b-7f0a-4d54-bfbf-b32969bbcfd8",
   "metadata": {},
   "outputs": [],
   "source": []
  },
  {
   "cell_type": "code",
   "execution_count": null,
   "id": "949514f3-0fdf-4fc0-bfbc-d36109700c3d",
   "metadata": {},
   "outputs": [],
   "source": []
  },
  {
   "cell_type": "code",
   "execution_count": null,
   "id": "855cd892-d71c-42bb-abbc-a023ceccdd8b",
   "metadata": {},
   "outputs": [],
   "source": []
  },
  {
   "cell_type": "code",
   "execution_count": null,
   "id": "f9928e48-b88c-4269-8c0f-f3bc43074182",
   "metadata": {},
   "outputs": [],
   "source": []
  },
  {
   "cell_type": "code",
   "execution_count": null,
   "id": "e9621910-132c-45c0-962d-4540a1d2d3c0",
   "metadata": {},
   "outputs": [],
   "source": []
  },
  {
   "cell_type": "code",
   "execution_count": null,
   "id": "d6603654-d95d-45af-9669-361fa7fa25d8",
   "metadata": {},
   "outputs": [],
   "source": []
  },
  {
   "cell_type": "code",
   "execution_count": null,
   "id": "dc75e95a-aed7-4e33-b2d1-26a8291abbd4",
   "metadata": {},
   "outputs": [],
   "source": []
  },
  {
   "cell_type": "code",
   "execution_count": null,
   "id": "4b9a9541-4dd6-4c8d-b629-709bd773cea1",
   "metadata": {},
   "outputs": [],
   "source": []
  },
  {
   "cell_type": "code",
   "execution_count": null,
   "id": "7c7a18e3-2d98-4fb5-be1c-3511312f859f",
   "metadata": {},
   "outputs": [],
   "source": []
  },
  {
   "cell_type": "code",
   "execution_count": null,
   "id": "670095f1-cb9e-4a3d-91d6-20df4b2f2efc",
   "metadata": {},
   "outputs": [],
   "source": []
  },
  {
   "cell_type": "code",
   "execution_count": null,
   "id": "ee82d5fe-cf80-45da-ad43-620ff08781a5",
   "metadata": {},
   "outputs": [],
   "source": []
  },
  {
   "cell_type": "code",
   "execution_count": null,
   "id": "0b828b74-b1d7-448d-b235-dbdee6378713",
   "metadata": {},
   "outputs": [],
   "source": []
  },
  {
   "cell_type": "code",
   "execution_count": null,
   "id": "fa353ae4-5bbe-4dda-bdac-a5b52df496c1",
   "metadata": {},
   "outputs": [],
   "source": []
  },
  {
   "cell_type": "code",
   "execution_count": null,
   "id": "c4bcefd4-1ba6-40cc-94af-7822142b7a28",
   "metadata": {},
   "outputs": [],
   "source": []
  },
  {
   "cell_type": "code",
   "execution_count": null,
   "id": "0f80d577-8ed7-47f0-a8a7-811ebf776185",
   "metadata": {},
   "outputs": [],
   "source": []
  },
  {
   "cell_type": "code",
   "execution_count": null,
   "id": "9d14c3cc-ae5e-4254-b51e-297486be56be",
   "metadata": {},
   "outputs": [],
   "source": []
  },
  {
   "cell_type": "code",
   "execution_count": null,
   "id": "f83268a0-0d65-4b23-bb56-dba6466af642",
   "metadata": {},
   "outputs": [],
   "source": []
  },
  {
   "cell_type": "code",
   "execution_count": null,
   "id": "5ec01989-c999-45a5-b69b-f34eb6bab840",
   "metadata": {},
   "outputs": [],
   "source": []
  },
  {
   "cell_type": "code",
   "execution_count": null,
   "id": "358243bd-3493-4f29-aaa1-7287819f50a7",
   "metadata": {},
   "outputs": [],
   "source": []
  },
  {
   "cell_type": "code",
   "execution_count": null,
   "id": "38e230e3-1e38-4941-bf17-3f586a0c9f4e",
   "metadata": {},
   "outputs": [],
   "source": []
  }
 ],
 "metadata": {
  "kernelspec": {
   "display_name": "Python 3 (ipykernel)",
   "language": "python",
   "name": "python3"
  },
  "language_info": {
   "codemirror_mode": {
    "name": "ipython",
    "version": 3
   },
   "file_extension": ".py",
   "mimetype": "text/x-python",
   "name": "python",
   "nbconvert_exporter": "python",
   "pygments_lexer": "ipython3",
   "version": "3.11.5"
  }
 },
 "nbformat": 4,
 "nbformat_minor": 5
}
